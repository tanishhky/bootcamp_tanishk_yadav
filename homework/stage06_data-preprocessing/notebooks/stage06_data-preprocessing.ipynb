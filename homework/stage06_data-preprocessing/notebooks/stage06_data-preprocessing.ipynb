{
 "cells": [
  {
   "cell_type": "code",
   "execution_count": 5,
   "id": "8de9bce1",
   "metadata": {},
   "outputs": [
    {
     "name": "stdout",
     "output_type": "stream",
     "text": [
      "Original Data:\n",
      "   value\n",
      "0   10.0\n",
      "1   20.0\n",
      "2    NaN\n",
      "3   40.0\n",
      "4   50.0\n",
      "5  200.0\n"
     ]
    },
    {
     "ename": "NameError",
     "evalue": "name 'cite' is not defined",
     "output_type": "error",
     "traceback": [
      "\u001b[0;31m---------------------------------------------------------------------------\u001b[0m",
      "\u001b[0;31mNameError\u001b[0m                                 Traceback (most recent call last)",
      "Cell \u001b[0;32mIn[5], line 14\u001b[0m\n\u001b[1;32m     11\u001b[0m \u001b[38;5;28mprint\u001b[39m(df)\n\u001b[1;32m     13\u001b[0m \u001b[38;5;66;03m# Apply cleaning functions [cite: 162]\u001b[39;00m\n\u001b[0;32m---> 14\u001b[0m df_filled \u001b[38;5;241m=\u001b[39m \u001b[43mfill_missing_median\u001b[49m\u001b[43m(\u001b[49m\u001b[43mdf\u001b[49m\u001b[38;5;241;43m.\u001b[39;49m\u001b[43mcopy\u001b[49m\u001b[43m(\u001b[49m\u001b[43m)\u001b[49m\u001b[43m,\u001b[49m\u001b[43m \u001b[49m\u001b[38;5;124;43m'\u001b[39;49m\u001b[38;5;124;43mvalue\u001b[39;49m\u001b[38;5;124;43m'\u001b[39;49m\u001b[43m)\u001b[49m\n\u001b[1;32m     15\u001b[0m \u001b[38;5;28mprint\u001b[39m(\u001b[38;5;124m\"\u001b[39m\u001b[38;5;130;01m\\n\u001b[39;00m\u001b[38;5;124mData after filling missing values with median:\u001b[39m\u001b[38;5;124m\"\u001b[39m)\n\u001b[1;32m     16\u001b[0m \u001b[38;5;28mprint\u001b[39m(df_filled)\n",
      "File \u001b[0;32m~/Documents/NYU_MSFE/bootcamp_tanishk_yadav/homework/stage06_data-preprocessing/notebooks/../../../src/cleaning.py:5\u001b[0m, in \u001b[0;36mfill_missing_median\u001b[0;34m(df, column)\u001b[0m\n\u001b[1;32m      4\u001b[0m \u001b[38;5;28;01mdef\u001b[39;00m\u001b[38;5;250m \u001b[39m\u001b[38;5;21mfill_missing_median\u001b[39m(df: pd\u001b[38;5;241m.\u001b[39mDataFrame, column: \u001b[38;5;28mstr\u001b[39m) \u001b[38;5;241m-\u001b[39m\u001b[38;5;241m>\u001b[39m pd\u001b[38;5;241m.\u001b[39mDataFrame:\n\u001b[0;32m----> 5\u001b[0m \u001b[38;5;250m    \u001b[39m\u001b[38;5;124;03m\"\"\"Fills missing values in a column with the column's median.\"\"\"\u001b[39;00m [\u001b[43mcite\u001b[49m: \u001b[38;5;241m156\u001b[39m]\n\u001b[1;32m      6\u001b[0m     median_val \u001b[38;5;241m=\u001b[39m df[column]\u001b[38;5;241m.\u001b[39mmedian()\n\u001b[1;32m      7\u001b[0m     df[column] \u001b[38;5;241m=\u001b[39m df[column]\u001b[38;5;241m.\u001b[39mfillna(median_val)\n",
      "\u001b[0;31mNameError\u001b[0m: name 'cite' is not defined"
     ]
    }
   ],
   "source": [
    "import pandas as pd\n",
    "import numpy as np\n",
    "import sys\n",
    "sys.path.append('../../../src')\n",
    "from cleaning import fill_missing_median, normalize_data\n",
    "\n",
    "# Create a sample dataframe with missing values\n",
    "data = {'value': [10, 20, np.nan, 40, 50, 200]}\n",
    "df = pd.DataFrame(data)\n",
    "print(\"Original Data:\")\n",
    "print(df)\n",
    "\n",
    "# Apply cleaning functions [cite: 162]\n",
    "df_filled = fill_missing_median(df.copy(), 'value')\n",
    "print(\"\\nData after filling missing values with median:\")\n",
    "print(df_filled)\n",
    "\n",
    "df_normalized = normalize_data(df_filled.copy(), 'value')\n",
    "print(\"\\nData after normalizing:\")\n",
    "print(df_normalized)\n",
    "\n",
    "# Save cleaned data\n",
    "df_normalized.to_parquet('../data/processed/cleaned_sample.parquet')\n",
    "print(\"\\nCleaned data saved.\")"
   ]
  }
 ],
 "metadata": {
  "kernelspec": {
   "display_name": "bootcamp_env",
   "language": "python",
   "name": "python3"
  },
  "language_info": {
   "codemirror_mode": {
    "name": "ipython",
    "version": 3
   },
   "file_extension": ".py",
   "mimetype": "text/x-python",
   "name": "python",
   "nbconvert_exporter": "python",
   "pygments_lexer": "ipython3",
   "version": "3.10.18"
  }
 },
 "nbformat": 4,
 "nbformat_minor": 5
}
