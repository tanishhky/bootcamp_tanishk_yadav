{
 "cells": [
  {
   "cell_type": "markdown",
   "id": "e9883332",
   "metadata": {},
   "source": [
    "# Environment & Config Check [cite: 241]"
   ]
  },
  {
   "cell_type": "code",
   "execution_count": 10,
   "id": "fae8368e",
   "metadata": {},
   "outputs": [
    {
     "name": "stdout",
     "output_type": "stream",
     "text": [
      "Requirement already satisfied: dotenv in /opt/miniconda3/envs/bootcamp_env/lib/python3.10/site-packages (0.9.9)\n",
      "Collecting utils\n",
      "  Downloading utils-1.0.2.tar.gz (13 kB)\n",
      "  Preparing metadata (setup.py) ... \u001b[?25ldone\n",
      "\u001b[?25hRequirement already satisfied: python-dotenv in /opt/miniconda3/envs/bootcamp_env/lib/python3.10/site-packages (from dotenv) (1.1.1)\n",
      "Building wheels for collected packages: utils\n",
      "\u001b[33m  DEPRECATION: Building 'utils' using the legacy setup.py bdist_wheel mechanism, which will be removed in a future version. pip 25.3 will enforce this behaviour change. A possible replacement is to use the standardized build interface by setting the `--use-pep517` option, (possibly combined with `--no-build-isolation`), or adding a `pyproject.toml` file to the source tree of 'utils'. Discussion can be found at https://github.com/pypa/pip/issues/6334\u001b[0m\u001b[33m\n",
      "\u001b[0m  Building wheel for utils (setup.py) ... \u001b[?25ldone\n",
      "\u001b[?25h  Created wheel for utils: filename=utils-1.0.2-py2.py3-none-any.whl size=13983 sha256=9be56148f4a1333f74ce38c82a0a3c2622cfc794415dfa5538b546ec15a03cdd\n",
      "  Stored in directory: /Users/tanishkyadav/Library/Caches/pip/wheels/b8/39/f5/9d0ca31dba85773ececf0a7f5469f18810e1c8a8ed9da28ca7\n",
      "Successfully built utils\n",
      "Installing collected packages: utils\n",
      "Successfully installed utils-1.0.2\n"
     ]
    }
   ],
   "source": [
    "!pip install dotenv utils"
   ]
  },
  {
   "cell_type": "code",
   "execution_count": 11,
   "id": "ee34b458",
   "metadata": {},
   "outputs": [
    {
     "name": "stdout",
     "output_type": "stream",
     "text": [
      "API_KEY present: False\n",
      "Numpy check successful: 6\n"
     ]
    }
   ],
   "source": [
    "import os\n",
    "import sys\n",
    "import numpy as np\n",
    "from dotenv import load_dotenv\n",
    "\n",
    "# Load environment variables\n",
    "load_dotenv()\n",
    "\n",
    "# Check for API key\n",
    "api_key = os.getenv(\"API_KEY\")\n",
    "print(f\"API_KEY present: {api_key is not None}\")\n",
    "\n",
    "# Run a small numpy operation\n",
    "arr = np.array([1, 2, 3])\n",
    "print(f\"Numpy check successful: {arr.sum()}\")"
   ]
  }
 ],
 "metadata": {
  "kernelspec": {
   "display_name": "bootcamp_env",
   "language": "python",
   "name": "python3"
  },
  "language_info": {
   "codemirror_mode": {
    "name": "ipython",
    "version": 3
   },
   "file_extension": ".py",
   "mimetype": "text/x-python",
   "name": "python",
   "nbconvert_exporter": "python",
   "pygments_lexer": "ipython3",
   "version": "3.10.18"
  }
 },
 "nbformat": 4,
 "nbformat_minor": 5
}
