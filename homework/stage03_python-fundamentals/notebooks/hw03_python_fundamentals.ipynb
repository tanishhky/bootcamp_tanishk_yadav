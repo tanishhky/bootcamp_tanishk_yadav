{
 "cells": [
  {
   "cell_type": "markdown",
   "id": "219cbe31",
   "metadata": {},
   "source": [
    "# Python Fundamentals: Exploring Berkshire Holdings\n",
    "In this notebook, we load the Berkshire Hathaway holdings data and perform initial summary statistics."
   ]
  },
  {
   "cell_type": "code",
   "execution_count": 2,
   "id": "df04b4b8",
   "metadata": {},
   "outputs": [
    {
     "ename": "ImportError",
     "evalue": "cannot import name 'get_summary_stats' from 'utils' (/opt/miniconda3/envs/bootcamp_env/lib/python3.10/site-packages/utils/__init__.py)",
     "output_type": "error",
     "traceback": [
      "\u001b[0;31m---------------------------------------------------------------------------\u001b[0m",
      "\u001b[0;31mImportError\u001b[0m                               Traceback (most recent call last)",
      "Cell \u001b[0;32mIn[2], line 5\u001b[0m\n\u001b[1;32m      3\u001b[0m \u001b[38;5;28;01mimport\u001b[39;00m\u001b[38;5;250m \u001b[39m\u001b[38;5;21;01msys\u001b[39;00m\n\u001b[1;32m      4\u001b[0m sys\u001b[38;5;241m.\u001b[39mpath\u001b[38;5;241m.\u001b[39mappend(\u001b[38;5;124m'\u001b[39m\u001b[38;5;124m../src\u001b[39m\u001b[38;5;124m'\u001b[39m) \u001b[38;5;66;03m# Add src to path\u001b[39;00m\n\u001b[0;32m----> 5\u001b[0m \u001b[38;5;28;01mfrom\u001b[39;00m\u001b[38;5;250m \u001b[39m\u001b[38;5;21;01mutils\u001b[39;00m\u001b[38;5;250m \u001b[39m\u001b[38;5;28;01mimport\u001b[39;00m get_summary_stats\n\u001b[1;32m      7\u001b[0m \u001b[38;5;66;03m# Load the dataset\u001b[39;00m\n\u001b[1;32m      8\u001b[0m holdings_df \u001b[38;5;241m=\u001b[39m pd\u001b[38;5;241m.\u001b[39mread_csv(\u001b[38;5;124m'\u001b[39m\u001b[38;5;124m../project/holdings.csv\u001b[39m\u001b[38;5;124m'\u001b[39m) [cite: \u001b[38;5;241m198\u001b[39m]\n",
      "\u001b[0;31mImportError\u001b[0m: cannot import name 'get_summary_stats' from 'utils' (/opt/miniconda3/envs/bootcamp_env/lib/python3.10/site-packages/utils/__init__.py)"
     ]
    }
   ],
   "source": [
    "import pandas as pd\n",
    "import numpy as np\n",
    "import sys\n",
    "sys.path.append('../src') # Add src to path\n",
    "from utils import get_summary_stats\n",
    "\n",
    "# Load the dataset\n",
    "holdings_df = pd.read_csv('../project/holdings.csv') [cite: 198]\n",
    "\n",
    "# Inspect the data\n",
    "print(\"Data Info:\")\n",
    "holdings_df.info() [cite: 199]\n",
    "print(\"\\nData Head:\")\n",
    "print(holdings_df.head()) [cite: 199]\n",
    "\n",
    "# --- NumPy Operations --- [cite: 194]\n",
    "shares = holdings_df['Number of shares'].to_numpy()\n",
    "print(f\"\\nTotal shares (vectorized): {np.sum(shares)}\") [cite: 195]\n",
    "\n",
    "# --- Summary Statistics --- [cite: 200]\n",
    "# Note: Meaningful stats require market data, which we'll fetch later.\n",
    "# For now, we'll use the utility function on the shares column.\n",
    "summary = get_summary_stats(holdings_df[['Number of shares']])\n",
    "print(\"\\nSummary Statistics for Number of Shares:\")\n",
    "print(summary) [cite: 201]\n",
    "\n",
    "# Save the summary\n",
    "summary.to_csv('../data/processed/summary.csv') [cite: 204]\n",
    "print(\"\\nSummary saved to data/processed/summary.csv\")"
   ]
  }
 ],
 "metadata": {
  "kernelspec": {
   "display_name": "bootcamp_env",
   "language": "python",
   "name": "python3"
  },
  "language_info": {
   "codemirror_mode": {
    "name": "ipython",
    "version": 3
   },
   "file_extension": ".py",
   "mimetype": "text/x-python",
   "name": "python",
   "nbconvert_exporter": "python",
   "pygments_lexer": "ipython3",
   "version": "3.10.18"
  }
 },
 "nbformat": 4,
 "nbformat_minor": 5
}
