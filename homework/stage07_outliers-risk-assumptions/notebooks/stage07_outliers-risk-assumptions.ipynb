{
 "cells": [
  {
   "cell_type": "markdown",
   "id": "dab6696d",
   "metadata": {},
   "source": [
    "# Outlier Analysis: Impact on Portfolio Beta\n",
    "We will analyze the market value of Berkshire's holdings to identify outliers. We'll then run a sensitivity analysis to see how removing the largest holding (an outlier) affects the portfolio's average beta."
   ]
  },
  {
   "cell_type": "code",
   "execution_count": 1,
   "id": "2949c124",
   "metadata": {},
   "outputs": [
    {
     "ename": "ModuleNotFoundError",
     "evalue": "No module named 'outliers'",
     "output_type": "error",
     "traceback": [
      "\u001b[0;31m---------------------------------------------------------------------------\u001b[0m",
      "\u001b[0;31mModuleNotFoundError\u001b[0m                       Traceback (most recent call last)",
      "Cell \u001b[0;32mIn[1], line 4\u001b[0m\n\u001b[1;32m      2\u001b[0m \u001b[38;5;28;01mimport\u001b[39;00m\u001b[38;5;250m \u001b[39m\u001b[38;5;21;01msys\u001b[39;00m\n\u001b[1;32m      3\u001b[0m sys\u001b[38;5;241m.\u001b[39mpath\u001b[38;5;241m.\u001b[39mappend(\u001b[38;5;124m'\u001b[39m\u001b[38;5;124m../src\u001b[39m\u001b[38;5;124m'\u001b[39m)\n\u001b[0;32m----> 4\u001b[0m \u001b[38;5;28;01mfrom\u001b[39;00m\u001b[38;5;250m \u001b[39m\u001b[38;5;21;01moutliers\u001b[39;00m\u001b[38;5;250m \u001b[39m\u001b[38;5;28;01mimport\u001b[39;00m detect_outliers_iqr\n\u001b[1;32m      6\u001b[0m \u001b[38;5;66;03m# Assume 'full_holdings_df' is a dataframe with Ticker, Beta, and Market_Value\u001b[39;00m\n\u001b[1;32m      7\u001b[0m \u001b[38;5;66;03m# For demonstration, we create a sample\u001b[39;00m\n\u001b[1;32m      8\u001b[0m data \u001b[38;5;241m=\u001b[39m {\n\u001b[1;32m      9\u001b[0m     \u001b[38;5;124m'\u001b[39m\u001b[38;5;124mTicker\u001b[39m\u001b[38;5;124m'\u001b[39m: [\u001b[38;5;124m'\u001b[39m\u001b[38;5;124mAAPL\u001b[39m\u001b[38;5;124m'\u001b[39m, \u001b[38;5;124m'\u001b[39m\u001b[38;5;124mBAC\u001b[39m\u001b[38;5;124m'\u001b[39m, \u001b[38;5;124m'\u001b[39m\u001b[38;5;124mAXP\u001b[39m\u001b[38;5;124m'\u001b[39m, \u001b[38;5;124m'\u001b[39m\u001b[38;5;124mKO\u001b[39m\u001b[38;5;124m'\u001b[39m, \u001b[38;5;124m'\u001b[39m\u001b[38;5;124mCVX\u001b[39m\u001b[38;5;124m'\u001b[39m],\n\u001b[1;32m     10\u001b[0m     \u001b[38;5;124m'\u001b[39m\u001b[38;5;124mMarket_Value\u001b[39m\u001b[38;5;124m'\u001b[39m: [\u001b[38;5;241m150\u001b[39m, \u001b[38;5;241m80\u001b[39m, \u001b[38;5;241m70\u001b[39m, \u001b[38;5;241m60\u001b[39m, \u001b[38;5;241m50\u001b[39m], \u001b[38;5;66;03m# In Billions\u001b[39;00m\n\u001b[1;32m     11\u001b[0m     \u001b[38;5;124m'\u001b[39m\u001b[38;5;124mBeta\u001b[39m\u001b[38;5;124m'\u001b[39m: [\u001b[38;5;241m1.2\u001b[39m, \u001b[38;5;241m1.4\u001b[39m, \u001b[38;5;241m1.1\u001b[39m, \u001b[38;5;241m0.6\u001b[39m, \u001b[38;5;241m1.3\u001b[39m]\n\u001b[1;32m     12\u001b[0m }\n",
      "\u001b[0;31mModuleNotFoundError\u001b[0m: No module named 'outliers'"
     ]
    }
   ],
   "source": [
    "import pandas as pd\n",
    "import sys\n",
    "sys.path.append('../src')\n",
    "from outliers import detect_outliers_iqr\n",
    "\n",
    "# Assume 'full_holdings_df' is a dataframe with Ticker, Beta, and Market_Value\n",
    "# For demonstration, we create a sample\n",
    "data = {\n",
    "    'Ticker': ['AAPL', 'BAC', 'AXP', 'KO', 'CVX'],\n",
    "    'Market_Value': [150, 80, 70, 60, 50], # In Billions\n",
    "    'Beta': [1.2, 1.4, 1.1, 0.6, 1.3]\n",
    "}\n",
    "df = pd.DataFrame(data)\n",
    "\n",
    "# Detect outliers in Market_Value\n",
    "df['is_outlier'] = detect_outliers_iqr(df['Market_Value'])\n",
    "print(\"Outlier Detection:\")\n",
    "print(df)\n",
    "\n",
    "# --- Sensitivity Analysis --- [cite: 382]\n",
    "# Compare mean beta with vs. without outliers [cite: 383]\n",
    "mean_beta_all = df['Beta'].mean()\n",
    "mean_beta_no_outliers = df[~df['is_outlier']]['Beta'].mean()\n",
    "\n",
    "print(f\"\\nMean Beta (with outliers): {mean_beta_all:.2f}\")\n",
    "print(f\"Mean Beta (without outliers): {mean_beta_no_outliers:.2f}\")\n",
    "\n",
    "# --- Reflection --- [cite: 385]\n",
    "print(\"\"\"\n",
    "**Reflection on Choices and Assumptions:** [cite: 386]\n",
    "\n",
    "1.  **Method Choice**: I chose the IQR method because it is robust to extreme values, which is fitting for portfolio data where one or two holdings can be disproportionately large. [cite: 386]\n",
    "2.  **Assumptions**: This assumes that statistical outliers are also qualitatively different. In this case, Apple (AAPL) is indeed an outlier in size and significantly influences the portfolio. [cite: 387]\n",
    "3.  **Impact**: Removing the outlier (AAPL) changed the mean beta, showing how sensitive this summary metric is to the largest holding. This highlights the risk of over-concentration. [cite: 388]\n",
    "\"\"\")"
   ]
  }
 ],
 "metadata": {
  "kernelspec": {
   "display_name": "bootcamp_env",
   "language": "python",
   "name": "python3"
  },
  "language_info": {
   "codemirror_mode": {
    "name": "ipython",
    "version": 3
   },
   "file_extension": ".py",
   "mimetype": "text/x-python",
   "name": "python",
   "nbconvert_exporter": "python",
   "pygments_lexer": "ipython3",
   "version": "3.10.18"
  }
 },
 "nbformat": 4,
 "nbformat_minor": 5
}
