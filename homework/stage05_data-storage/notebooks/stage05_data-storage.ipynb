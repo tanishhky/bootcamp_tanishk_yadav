{
 "cells": [
  {
   "cell_type": "markdown",
   "id": "8c01c0f8",
   "metadata": {},
   "source": [
    "# Data Storage: CSV and Parquet\n",
    "This notebook demonstrates saving the processed holdings data to both CSV and Parquet formats and validating the reloaded data. [cite: 332]"
   ]
  },
  {
   "cell_type": "code",
   "execution_count": null,
   "id": "8bbba7d2",
   "metadata": {},
   "outputs": [],
   "source": [
    "import pandas as pd\n",
    "import os\n",
    "import sys\n",
    "sys.path.append('../src')\n",
    "from config import DATA_DIR_RAW, DATA_DIR_PROCESSED\n",
    "\n",
    "# Create a sample DataFrame to save\n",
    "data = {'col1': [1, 2], 'col2': [3, 4]}\n",
    "df_to_save = pd.DataFrame(data)\n",
    "\n",
    "# --- 1. Save in Two Formats --- [cite: 334]\n",
    "# Save as CSV to raw directory\n",
    "csv_path = os.path.join(DATA_DIR_RAW, 'sample.csv')\n",
    "df_to_save.to_csv(csv_path, index=False) [cite: 336]\n",
    "print(f\"Saved to CSV at: {csv_path}\")\n",
    "\n",
    "# Save as Parquet to processed directory\n",
    "parquet_path = os.path.join(DATA_DIR_PROCESSED, 'sample.parquet')\n",
    "df_to_save.to_parquet(parquet_path, index=False) [cite: 336]\n",
    "print(f\"Saved to Parquet at: {parquet_path}\")\n",
    "\n",
    "# --- 2. Reload and Validate --- [cite: 338]\n",
    "reloaded_csv = pd.read_csv(csv_path)\n",
    "reloaded_parquet = pd.read_parquet(parquet_path)\n",
    "\n",
    "def validate_dfs(original_df, reloaded_df, name):\n",
    "    \"\"\"A small validation function.\"\"\" [cite: 341]\n",
    "    shape_match = original_df.shape == reloaded_df.shape\n",
    "    dtype_match = all(original_df.dtypes == reloaded_df.dtypes)\n",
    "    print(f\"Validation for {name}:\")\n",
    "    print(f\"  - Shapes match: {shape_match}\")\n",
    "    print(f\"  - Dtypes match: {dtype_match}\")\n",
    "\n",
    "validate_dfs(df_to_save, reloaded_csv, \"CSV\")\n",
    "validate_dfs(df_to_save, reloaded_parquet, \"Parquet\")"
   ]
  },
  {
   "cell_type": "markdown",
   "id": "8af98ed2",
   "metadata": {},
   "source": []
  }
 ],
 "metadata": {
  "kernelspec": {
   "display_name": "bootcamp_env",
   "language": "python",
   "name": "python3"
  },
  "language_info": {
   "name": "python",
   "version": "3.10.18"
  }
 },
 "nbformat": 4,
 "nbformat_minor": 5
}
