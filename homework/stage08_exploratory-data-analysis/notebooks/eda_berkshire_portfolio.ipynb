{
 "cells": [
  {
   "cell_type": "markdown",
   "id": "6fa964ec",
   "metadata": {},
   "source": [
    "# EDA: Berkshire Hathaway Portfolio\n",
    "This notebook explores the distribution of holdings, sector allocation, and relationships between variables."
   ]
  },
  {
   "cell_type": "code",
   "execution_count": 2,
   "id": "a16a56cb",
   "metadata": {},
   "outputs": [
    {
     "ename": "ModuleNotFoundError",
     "evalue": "No module named 'seaborn'",
     "output_type": "error",
     "traceback": [
      "\u001b[0;31m---------------------------------------------------------------------------\u001b[0m",
      "\u001b[0;31mModuleNotFoundError\u001b[0m                       Traceback (most recent call last)",
      "Cell \u001b[0;32mIn[2], line 3\u001b[0m\n\u001b[1;32m      1\u001b[0m \u001b[38;5;28;01mimport\u001b[39;00m\u001b[38;5;250m \u001b[39m\u001b[38;5;21;01mpandas\u001b[39;00m\u001b[38;5;250m \u001b[39m\u001b[38;5;28;01mas\u001b[39;00m\u001b[38;5;250m \u001b[39m\u001b[38;5;21;01mpd\u001b[39;00m\n\u001b[1;32m      2\u001b[0m \u001b[38;5;28;01mimport\u001b[39;00m\u001b[38;5;250m \u001b[39m\u001b[38;5;21;01mmatplotlib\u001b[39;00m\u001b[38;5;21;01m.\u001b[39;00m\u001b[38;5;21;01mpyplot\u001b[39;00m\u001b[38;5;250m \u001b[39m\u001b[38;5;28;01mas\u001b[39;00m\u001b[38;5;250m \u001b[39m\u001b[38;5;21;01mplt\u001b[39;00m\n\u001b[0;32m----> 3\u001b[0m \u001b[38;5;28;01mimport\u001b[39;00m\u001b[38;5;250m \u001b[39m\u001b[38;5;21;01mseaborn\u001b[39;00m\u001b[38;5;250m \u001b[39m\u001b[38;5;28;01mas\u001b[39;00m\u001b[38;5;250m \u001b[39m\u001b[38;5;21;01msns\u001b[39;00m\n\u001b[1;32m      5\u001b[0m \u001b[38;5;66;03m# Assume 'df' is the full, merged holdings dataset from previous steps\u001b[39;00m\n\u001b[1;32m      6\u001b[0m \u001b[38;5;66;03m# For demo, we create a sample\u001b[39;00m\n\u001b[1;32m      7\u001b[0m data \u001b[38;5;241m=\u001b[39m {\n\u001b[1;32m      8\u001b[0m     \u001b[38;5;124m'\u001b[39m\u001b[38;5;124mSector\u001b[39m\u001b[38;5;124m'\u001b[39m: [\u001b[38;5;124m'\u001b[39m\u001b[38;5;124mTech\u001b[39m\u001b[38;5;124m'\u001b[39m, \u001b[38;5;124m'\u001b[39m\u001b[38;5;124mFinancials\u001b[39m\u001b[38;5;124m'\u001b[39m, \u001b[38;5;124m'\u001b[39m\u001b[38;5;124mFinancials\u001b[39m\u001b[38;5;124m'\u001b[39m, \u001b[38;5;124m'\u001b[39m\u001b[38;5;124mStaples\u001b[39m\u001b[38;5;124m'\u001b[39m, \u001b[38;5;124m'\u001b[39m\u001b[38;5;124mEnergy\u001b[39m\u001b[38;5;124m'\u001b[39m, \u001b[38;5;124m'\u001b[39m\u001b[38;5;124mTech\u001b[39m\u001b[38;5;124m'\u001b[39m],\n\u001b[1;32m      9\u001b[0m     \u001b[38;5;124m'\u001b[39m\u001b[38;5;124mMarket_Value\u001b[39m\u001b[38;5;124m'\u001b[39m: [\u001b[38;5;241m150\u001b[39m, \u001b[38;5;241m80\u001b[39m, \u001b[38;5;241m70\u001b[39m, \u001b[38;5;241m60\u001b[39m, \u001b[38;5;241m50\u001b[39m, \u001b[38;5;241m5\u001b[39m],\n\u001b[1;32m     10\u001b[0m     \u001b[38;5;124m'\u001b[39m\u001b[38;5;124mBeta\u001b[39m\u001b[38;5;124m'\u001b[39m: [\u001b[38;5;241m1.2\u001b[39m, \u001b[38;5;241m1.4\u001b[39m, \u001b[38;5;241m1.1\u001b[39m, \u001b[38;5;241m0.6\u001b[39m, \u001b[38;5;241m1.3\u001b[39m, \u001b[38;5;241m1.5\u001b[39m]\n\u001b[1;32m     11\u001b[0m }\n",
      "\u001b[0;31mModuleNotFoundError\u001b[0m: No module named 'seaborn'"
     ]
    }
   ],
   "source": [
    "import pandas as pd\n",
    "import matplotlib.pyplot as plt\n",
    "import seaborn as sns\n",
    "\n",
    "# Assume 'df' is the full, merged holdings dataset from previous steps\n",
    "# For demo, we create a sample\n",
    "data = {\n",
    "    'Sector': ['Tech', 'Financials', 'Financials', 'Staples', 'Energy', 'Tech'],\n",
    "    'Market_Value': [150, 80, 70, 60, 50, 5],\n",
    "    'Beta': [1.2, 1.4, 1.1, 0.6, 1.3, 1.5]\n",
    "}\n",
    "df = pd.DataFrame(data)\n",
    "\n",
    "# --- 1. Statistical Summary --- [cite: 303]\n",
    "print(df.describe())\n",
    "\n",
    "# --- 2. Distributional Plots --- [cite: 304]\n",
    "plt.figure(figsize=(10, 5))\n",
    "sns.histplot(df['Market_Value'], bins=15, kde=True)\n",
    "plt.title('Distribution of Holding Market Values')\n",
    "plt.show()\n",
    "\n",
    "# --- 3. Bivariate Visuals --- [cite: 305]\n",
    "plt.figure(figsize=(10, 6))\n",
    "sns.scatterplot(data=df, x='Market_Value', y='Beta')\n",
    "plt.title('Market Value vs. Beta')\n",
    "plt.show()\n",
    "\n",
    "# --- 4. Categorical Analysis ---\n",
    "sector_counts = df['Sector'].value_counts()\n",
    "plt.figure(figsize=(12, 7))\n",
    "sector_counts.plot(kind='pie', autopct='%1.1f%%')\n",
    "plt.title('Portfolio Allocation by Sector')\n",
    "plt.ylabel('')\n",
    "plt.show()\n",
    "\n",
    "# --- 5. Final Insights --- [cite: 322]\n",
    "print(\"\"\"\n",
    "**Top 3 Insights:**\n",
    "1. The portfolio is highly concentrated in its top holdings.\n",
    "2. The Financials and Technology sectors represent a significant portion of the portfolio.\n",
    "3. There is no obvious linear relationship between a holding's size and its beta.\n",
    "\n",
    "**Assumptions & Risks:**\n",
    "- The sector data is accurate. A misclassification could skew the analysis.\n",
    "- The beta values are stable, but in reality, they can change over time.\n",
    "\"\"\")"
   ]
  }
 ],
 "metadata": {
  "kernelspec": {
   "display_name": "bootcamp_env",
   "language": "python",
   "name": "python3"
  },
  "language_info": {
   "codemirror_mode": {
    "name": "ipython",
    "version": 3
   },
   "file_extension": ".py",
   "mimetype": "text/x-python",
   "name": "python",
   "nbconvert_exporter": "python",
   "pygments_lexer": "ipython3",
   "version": "3.10.18"
  }
 },
 "nbformat": 4,
 "nbformat_minor": 5
}
