{
 "cells": [
  {
   "cell_type": "markdown",
   "id": "e5b11b64",
   "metadata": {},
   "source": []
  }
 ],
 "metadata": {
  "language_info": {
   "name": "python"
  }
 },
 "nbformat": 4,
 "nbformat_minor": 5
}
