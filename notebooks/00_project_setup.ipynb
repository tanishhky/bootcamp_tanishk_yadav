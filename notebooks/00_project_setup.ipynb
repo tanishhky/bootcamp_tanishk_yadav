{
 "cells": [
  {
   "cell_type": "markdown",
   "id": "041e2eb3",
   "metadata": {},
   "source": [
    "### Environment & Config Check"
   ]
  },
  {
   "cell_type": "code",
   "execution_count": 1,
   "id": "337de5e3",
   "metadata": {},
   "outputs": [
    {
     "name": "stdout",
     "output_type": "stream",
     "text": [
      "API_KEY present: True\n",
      "Numpy array operation (sum): 6\n"
     ]
    }
   ],
   "source": [
    "import sys\n",
    "import os\n",
    "import numpy as np\n",
    "\n",
    "sys.path.append(os.path.abspath(os.path.join('..', 'src')))\n",
    "\n",
    "from config import load_env, get_key\n",
    "\n",
    "load_env()\n",
    "api_key = get_key()\n",
    "\n",
    "print(f\"API_KEY present: {api_key is not None}\")\n",
    "\n",
    "test_array = np.array([1, 2, 3])\n",
    "print(f\"Numpy array operation (sum): {np.sum(test_array)}\")"
   ]
  }
 ],
 "metadata": {
  "kernelspec": {
   "display_name": "fe-course",
   "language": "python",
   "name": "python3"
  },
  "language_info": {
   "codemirror_mode": {
    "name": "ipython",
    "version": 3
   },
   "file_extension": ".py",
   "mimetype": "text/x-python",
   "name": "python",
   "nbconvert_exporter": "python",
   "pygments_lexer": "ipython3",
   "version": "3.11.13"
  }
 },
 "nbformat": 4,
 "nbformat_minor": 5
}
