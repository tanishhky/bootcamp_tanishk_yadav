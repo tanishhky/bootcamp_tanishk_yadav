{
 "cells": [
  {
   "cell_type": "markdown",
   "id": "041e2eb3",
   "metadata": {},
   "source": [
    "### Environment & Config Check"
   ]
  },
  {
   "cell_type": "code",
   "execution_count": null,
   "id": "337de5e3",
   "metadata": {
    "vscode": {
     "languageId": "plaintext"
    }
   },
   "outputs": [],
   "source": [
    "import sys\n",
    "import os\n",
    "import numpy as np\n",
    "\n",
    "sys.path.append(os.path.abspath(os.path.join('..', 'src')))\n",
    "\n",
    "from config import load_env, get_key\n",
    "\n",
    "load_env()\n",
    "api_key = get_key()\n",
    "\n",
    "print(f\"API_KEY present: {api_key is not None}\")\n",
    "\n",
    "test_array = np.array([1, 2, 3])\n",
    "print(f\"Numpy array operation (sum): {np.sum(test_array)}\")"
   ]
  }
 ],
 "metadata": {
  "language_info": {
   "name": "python"
  }
 },
 "nbformat": 4,
 "nbformat_minor": 5
}
